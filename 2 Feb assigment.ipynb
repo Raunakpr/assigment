{
 "cells": [
  {
   "cell_type": "markdown",
   "id": "5cd88fc8-fded-4c02-99cf-69cf17ceab8b",
   "metadata": {},
   "source": [
    "Ques-1 Explain with an example each when to use a for loop and a while loop."
   ]
  },
  {
   "cell_type": "markdown",
   "id": "08a0925e-0550-457b-957f-c25a1b0de801",
   "metadata": {},
   "source": [
    "Ans-1 For loop\n",
    "\n",
    "1-It is used when the number of iterations is known.\n",
    "2-In case of no condition, the loop is repeated infinite times.\n",
    "3-Initialization is not repeated.\n",
    "3-Statement of Iteration is written after running.\n",
    "4-Initialization can be in or out of the loop.\n",
    "5-The nature of the increment is simple.\n",
    "6-Used when initialization is simple."
   ]
  },
  {
   "cell_type": "markdown",
   "id": "3ae6ab73-5661-458d-889f-d349e0f70eb4",
   "metadata": {},
   "source": [
    "Example of For loop"
   ]
  },
  {
   "cell_type": "code",
   "execution_count": 3,
   "id": "51488c6d-4a16-4d6e-aa65-924ea8a753b3",
   "metadata": {},
   "outputs": [
    {
     "name": "stdout",
     "output_type": "stream",
     "text": [
      "1\n",
      "2\n",
      "3\n",
      "4\n",
      "5\n",
      "6\n",
      "7\n",
      "8\n",
      "9\n",
      "10\n"
     ]
    }
   ],
   "source": [
    "num=11\n",
    "for i in range(1,num):\n",
    "    print(i)"
   ]
  },
  {
   "cell_type": "markdown",
   "id": "e929ad29-a8b9-4b9f-a1a0-40e2c3f934c3",
   "metadata": {},
   "source": [
    "While loop\n",
    "\n",
    "1-It is used when the number of iterations is not known.\n",
    "2-In case of no condition, an error will be shown.\n",
    "3-Initialization is repeated if carried out during the stage of checking.\n",
    "4-It can be written at any place.\n",
    "5-Initialization is always out of the loop.\n",
    "6-The nature of the increment is complex.\n",
    "7-Used when initialization is complex."
   ]
  },
  {
   "cell_type": "markdown",
   "id": "1dab7ca0-ce46-4196-b334-de2ba7e3bcf9",
   "metadata": {},
   "source": [
    "Example of While loop"
   ]
  },
  {
   "cell_type": "code",
   "execution_count": 5,
   "id": "2437c476-8072-4c57-811a-894e2d36ea5d",
   "metadata": {},
   "outputs": [
    {
     "name": "stdout",
     "output_type": "stream",
     "text": [
      "1\n",
      "2\n",
      "3\n",
      "4\n",
      "5\n",
      "6\n",
      "7\n",
      "8\n",
      "9\n",
      "10\n"
     ]
    }
   ],
   "source": [
    "num=1\n",
    "while num<11:\n",
    "    print(num)\n",
    "    num+=1"
   ]
  },
  {
   "cell_type": "markdown",
   "id": "277048b7-f69c-4210-a92c-407b8de591dd",
   "metadata": {},
   "source": [
    "Ques-2 Write a python program to print the sum and product of the first 10 natural numbers using for\n",
    "and while loop."
   ]
  },
  {
   "cell_type": "code",
   "execution_count": 13,
   "id": "5b25df41-04ce-4c46-8abc-e564bd395ba3",
   "metadata": {},
   "outputs": [
    {
     "name": "stdout",
     "output_type": "stream",
     "text": [
      "Sum of first 10 natural no. is 55\n",
      "Product of first 10 natural no is 3628800\n"
     ]
    }
   ],
   "source": [
    "#While loop\n",
    "# sum of first 10 natural number\n",
    "num=10\n",
    "sum=0\n",
    "product=1\n",
    "i=1\n",
    "while i<=num:\n",
    "    sum+=i\n",
    "    product*=i\n",
    "    i+=1\n",
    "print(\"Sum of first 10 natural no. is\",sum)\n",
    "print(\"Product of first 10 natural no is\",product)"
   ]
  },
  {
   "cell_type": "code",
   "execution_count": 18,
   "id": "bd19fa10-af9c-4d3d-a01a-b866b436c578",
   "metadata": {},
   "outputs": [
    {
     "name": "stdout",
     "output_type": "stream",
     "text": [
      "Sum of first 10 natural no. is 55\n",
      "Product of first 10 natural no is 3628800\n"
     ]
    }
   ],
   "source": [
    "# By using For loop\n",
    "# sum of first of 10 natural number\n",
    "num=10\n",
    "sum=0\n",
    "product=1\n",
    "for i in range(1,num+1):\n",
    "    sum+=i\n",
    "    product*=i\n",
    "print(\"Sum of first 10 natural no. is\",sum)\n",
    "print(\"Product of first 10 natural no is\",product)"
   ]
  },
  {
   "cell_type": "markdown",
   "id": "c8d4e9c1-43df-4264-9440-f02e54998b37",
   "metadata": {},
   "source": [
    "# Ans-3"
   ]
  },
  {
   "cell_type": "code",
   "execution_count": 21,
   "id": "133fe64b-8810-4625-977c-b046c32f03d7",
   "metadata": {},
   "outputs": [
    {
     "name": "stdin",
     "output_type": "stream",
     "text": [
      "Enter your unit:  310\n"
     ]
    },
    {
     "name": "stdout",
     "output_type": "stream",
     "text": [
      "Electricity bill of this month is 2250.0\n"
     ]
    }
   ],
   "source": [
    "#Electricity bill calculater\n",
    "\n",
    "unit = int(input(\"Enter your unit: \"))\n",
    "if unit <= 100:\n",
    "    bill=unit*4.5\n",
    "elif unit>=101 and unit<=200:\n",
    "    bill=(100*4.5)+((unit-100)*6)\n",
    "elif unit>=201 and unit <=300:\n",
    "    bill=(100*4.5)+(100*6)+((unit-200)*10)\n",
    "else:\n",
    "    bill=(100*4.5)+(100*6)+(100*10)+((unit-300)*20)\n",
    "print(\"Electricity bill of this month is\",bill)"
   ]
  },
  {
   "cell_type": "markdown",
   "id": "ce0c9798-63b5-4ca2-b32e-978fa0e15692",
   "metadata": {},
   "source": [
    "# Ans-4"
   ]
  },
  {
   "cell_type": "code",
   "execution_count": 3,
   "id": "248db5bb-d39d-42a2-9225-d64065eba562",
   "metadata": {},
   "outputs": [
    {
     "name": "stdout",
     "output_type": "stream",
     "text": [
      "[1, 2, 3, 4, 5, 6, 7, 8, 9, 10, 11, 12, 13, 14, 15, 16, 17, 18, 19, 20, 21, 22, 23, 24, 25, 26, 27, 28, 29, 30, 31, 32, 33, 34, 35, 36, 37, 38, 39, 40, 41, 42, 43, 44, 45, 46, 47, 48, 49, 50, 51, 52, 53, 54, 55, 56, 57, 58, 59, 60, 61, 62, 63, 64, 65, 66, 67, 68, 69, 70, 71, 72, 73, 74, 75, 76, 77, 78, 79, 80, 81, 82, 83, 84, 85, 86, 87, 88, 89, 90, 91, 92, 93, 94, 95, 96, 97, 98, 99, 100]\n"
     ]
    }
   ],
   "source": [
    "# List of 1 to 100 by using For loop\n",
    "l=[]\n",
    "for i in range(1,101):\n",
    "        l.append(i)\n",
    "print(l)"
   ]
  },
  {
   "cell_type": "code",
   "execution_count": 9,
   "id": "6c0573da-de19-4e7f-b662-26192a37a16e",
   "metadata": {},
   "outputs": [
    {
     "name": "stdout",
     "output_type": "stream",
     "text": [
      "[8, 64, 125, 216, 512, 1000, 1728, 2744, 3375, 4096, 5832, 8000, 10648, 13824, 15625, 17576, 21952, 27000, 32768, 39304, 42875, 46656, 54872, 64000, 74088, 85184, 91125, 97336, 110592, 125000, 140608, 157464, 166375, 175616, 195112, 216000, 238328, 262144, 274625, 287496, 314432, 343000, 373248, 405224, 421875, 438976, 474552, 512000, 551368, 592704, 614125, 636056, 681472, 729000, 778688, 830584, 857375, 884736, 941192, 1000000]\n"
     ]
    }
   ],
   "source": [
    "# Cubes of the list 1 to 100 which is divisible by 4 and 5 by using For loop\n",
    "cubes=[]\n",
    "for i in l:\n",
    "    if (i**3)%4==0 or (i**3)%5==0:\n",
    "        cubes.append(i**3)\n",
    "print(cubes)"
   ]
  },
  {
   "cell_type": "code",
   "execution_count": 17,
   "id": "566914a6-885e-4e77-940f-85159ea55846",
   "metadata": {},
   "outputs": [
    {
     "name": "stdout",
     "output_type": "stream",
     "text": [
      "[1, 2, 3, 4, 5, 6, 7, 8, 9, 10, 11, 12, 13, 14, 15, 16, 17, 18, 19, 20, 21, 22, 23, 24, 25, 26, 27, 28, 29, 30, 31, 32, 33, 34, 35, 36, 37, 38, 39, 40, 41, 42, 43, 44, 45, 46, 47, 48, 49, 50, 51, 52, 53, 54, 55, 56, 57, 58, 59, 60, 61, 62, 63, 64, 65, 66, 67, 68, 69, 70, 71, 72, 73, 74, 75, 76, 77, 78, 79, 80, 81, 82, 83, 84, 85, 86, 87, 88, 89, 90, 91, 92, 93, 94, 95, 96, 97, 98, 99, 100]\n"
     ]
    }
   ],
   "source": [
    "# List of 1 to 100 by using While loop\n",
    "l=[]\n",
    "x=1\n",
    "while x<=100:\n",
    "    l.append(x)\n",
    "    x+=1\n",
    "print(l)"
   ]
  },
  {
   "cell_type": "code",
   "execution_count": 16,
   "id": "d045da7f-f76c-4c7a-9f3a-a7f48281c8be",
   "metadata": {},
   "outputs": [
    {
     "name": "stdout",
     "output_type": "stream",
     "text": [
      "[8, 64, 125, 216, 512, 1000, 1728, 2744, 3375, 4096, 5832, 8000, 10648, 13824, 15625, 17576, 21952, 27000, 32768, 39304, 42875, 46656, 54872, 64000, 74088, 85184, 91125, 97336, 110592, 125000, 140608, 157464, 166375, 175616, 195112, 216000, 238328, 262144, 274625, 287496, 314432, 343000, 373248, 405224, 421875, 438976, 474552, 512000, 551368, 592704, 614125, 636056, 681472, 729000, 778688, 830584, 857375, 884736, 941192, 1000000]\n"
     ]
    }
   ],
   "source": [
    "# Cubes of the list 1 to 100 which is divisible by 4 and 5 by using While loop\n",
    "\n",
    "cubes=[]\n",
    "i=1\n",
    "while i<=100:\n",
    "    if (i**3)%4==0 or(i**3)%5==0:\n",
    "        cubes.append(i**3)\n",
    "    i+=1\n",
    "print(cubes)"
   ]
  },
  {
   "cell_type": "markdown",
   "id": "6aa800e0-ec85-4fe6-8d60-4effa96c19d2",
   "metadata": {},
   "source": [
    "# Ans-5"
   ]
  },
  {
   "cell_type": "code",
   "execution_count": 20,
   "id": "35fd039b-5391-4b05-aa2c-aa55e548eab1",
   "metadata": {},
   "outputs": [
    {
     "name": "stdout",
     "output_type": "stream",
     "text": [
      "Number of vowels in the given string is 10\n"
     ]
    }
   ],
   "source": [
    "# Count the number of vowels in the string\n",
    "string = \"I want to become a data scientist\"\n",
    "vowels=[\"a\",\"e\",\"i\",\"O\",\"u\",\"A\",\"E\",\"I\",\"O\",\"U\"]\n",
    "count=0\n",
    "\n",
    "for char in string:\n",
    "    if char in vowels:\n",
    "        count+=1\n",
    "print(\"Number of vowels in the given string is\",count)\n",
    "  "
   ]
  },
  {
   "cell_type": "code",
   "execution_count": null,
   "id": "cd364d4d-81f3-4fc4-a0de-cf719a89bfe7",
   "metadata": {},
   "outputs": [],
   "source": []
  }
 ],
 "metadata": {
  "kernelspec": {
   "display_name": "Python 3 (ipykernel)",
   "language": "python",
   "name": "python3"
  },
  "language_info": {
   "codemirror_mode": {
    "name": "ipython",
    "version": 3
   },
   "file_extension": ".py",
   "mimetype": "text/x-python",
   "name": "python",
   "nbconvert_exporter": "python",
   "pygments_lexer": "ipython3",
   "version": "3.10.8"
  }
 },
 "nbformat": 4,
 "nbformat_minor": 5
}
