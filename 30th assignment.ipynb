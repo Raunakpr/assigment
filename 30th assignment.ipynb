{
 "cells": [
  {
   "cell_type": "markdown",
   "id": "2c7e770a-9f1c-418f-976f-1d0d51253155",
   "metadata": {},
   "source": [
    "# Ans1"
   ]
  },
  {
   "cell_type": "code",
   "execution_count": 10,
   "id": "f30919b0-23ac-41a5-8b64-29bb6a19b719",
   "metadata": {},
   "outputs": [
    {
     "name": "stdin",
     "output_type": "stream",
     "text": [
      "Enter your percentage 92.3\n"
     ]
    },
    {
     "name": "stdout",
     "output_type": "stream",
     "text": [
      "Grade: A\n"
     ]
    }
   ],
   "source": [
    "pct = float(input(\"Enter your percentage\", ))\n",
    "if(pct>90):\n",
    "    print(\"Grade: A\")\n",
    "elif(pct>80 and pct<=90):\n",
    "    print(\"Grade: B\")\n",
    "elif(pct>=60 and pct<=80):\n",
    "    print(\"Grade: C\")\n",
    "else:\n",
    "    print(\"Grade: D\")"
   ]
  },
  {
   "cell_type": "markdown",
   "id": "b67ebe89-7a75-4a65-aec3-2b237224c600",
   "metadata": {},
   "source": [
    "# Ans 2"
   ]
  },
  {
   "cell_type": "code",
   "execution_count": 21,
   "id": "234538ad-c18c-42e6-a9f3-5ada334baa14",
   "metadata": {},
   "outputs": [
    {
     "name": "stdin",
     "output_type": "stream",
     "text": [
      "Enter the cost price of the bike 45000\n"
     ]
    },
    {
     "name": "stdout",
     "output_type": "stream",
     "text": [
      "2250.0 is the road tax to be paid\n"
     ]
    }
   ],
   "source": [
    "tax=0\n",
    "cp=float(input(\"Enter the cost price of the bike\", ))\n",
    "if cp>100000:\n",
    "    tax=15/100*cp\n",
    "elif cp>50000and cp<=100000:\n",
    "    tax=10/100*cp\n",
    "else:\n",
    "    cp<=50000\n",
    "    tax=5/100*cp\n",
    "print(tax, \"is the road tax to be paid\")\n"
   ]
  },
  {
   "cell_type": "markdown",
   "id": "6af9cac7-f800-470a-8462-a8d8a682a2ea",
   "metadata": {},
   "source": [
    "# Ans-3"
   ]
  },
  {
   "cell_type": "code",
   "execution_count": 30,
   "id": "6347e239-18d1-485d-9da2-c5a5ff956be4",
   "metadata": {},
   "outputs": [
    {
     "name": "stdin",
     "output_type": "stream",
     "text": [
      "Enter name of the city jaipur\n"
     ]
    },
    {
     "name": "stdout",
     "output_type": "stream",
     "text": [
      "Monument name is: Jai Mahal\n"
     ]
    }
   ],
   "source": [
    "city=input(\"Enter name of the city\", )\n",
    "if city.capitalize()==\"Delhi\":\n",
    "    print(\"Monument name is: Red Fort\")\n",
    "elif city.capitalize()==\"Agra\":\n",
    "    print(\"Monument name is: Taj Mahal\")\n",
    "elif city.capitalize()==\"Jaipur\":\n",
    "    print(\"Monument name is: Jai Mahal\")\n",
    "else:\n",
    "    print(\"Enter correct city name\")"
   ]
  },
  {
   "cell_type": "markdown",
   "id": "e2663027-8bac-43f8-bae2-97f1a7f78347",
   "metadata": {},
   "source": [
    "# Ans-4"
   ]
  },
  {
   "cell_type": "code",
   "execution_count": 11,
   "id": "a2f4a83e-6b99-48b4-b04e-c0e51d5a46bf",
   "metadata": {},
   "outputs": [
    {
     "name": "stdin",
     "output_type": "stream",
     "text": [
      "Enter your number: 18000\n"
     ]
    },
    {
     "name": "stdout",
     "output_type": "stream",
     "text": [
      "7 times number divided by 3 before less than equal to 10.\n"
     ]
    }
   ],
   "source": [
    "count = 0\n",
    "num = int(input(\"Enter your number:\"))\n",
    "while num >= 10:\n",
    "    num = num / 3\n",
    "    count += 1\n",
    "print(count,(\"times number divided by 3 before less than equal to 10.\"))"
   ]
  },
  {
   "cell_type": "markdown",
   "id": "59a49c0d-444a-4d59-ae71-13f1c6206a97",
   "metadata": {},
   "source": [
    "# Ans-5"
   ]
  },
  {
   "cell_type": "markdown",
   "id": "74115c94-c25a-4018-be69-7846e79ff846",
   "metadata": {},
   "source": [
    "1-The while loop has a condition and it runs until the condition is false\n",
    "\n",
    "2-The while loop should always have a mechanism to break the condition or the loop will run forever\n",
    "\n",
    "3-Use the while loop when you do not know many times the loop should execute\n",
    "\n",
    "4-While loop is easy to write. using the loop, we don’t need to write the statements again and again. Instead, we can write statements we wanted to execute again and again inside the body of the loop thus, reducing the complexity of the code"
   ]
  },
  {
   "cell_type": "markdown",
   "id": "43bdd742-b196-46ec-a083-4397bd21fce7",
   "metadata": {},
   "source": [
    "Example"
   ]
  },
  {
   "cell_type": "code",
   "execution_count": 2,
   "id": "3c1585e1-a949-4e96-bdb8-d33156445290",
   "metadata": {},
   "outputs": [
    {
     "name": "stdin",
     "output_type": "stream",
     "text": [
      "Enter your number:  8\n"
     ]
    },
    {
     "name": "stdout",
     "output_type": "stream",
     "text": [
      "8\n",
      "16\n",
      "24\n",
      "32\n",
      "40\n",
      "48\n",
      "56\n",
      "64\n",
      "72\n",
      "80\n"
     ]
    }
   ],
   "source": [
    "num=int(input(\"Enter your number: \"))\n",
    "count=1\n",
    "while count<=10:\n",
    "    product=num*count\n",
    "    print(product)\n",
    "    count+=1\n",
    "    "
   ]
  },
  {
   "cell_type": "markdown",
   "id": "b83a193d-1bae-483c-8da1-2f41e948bdf6",
   "metadata": {},
   "source": [
    "# Ans-6"
   ]
  },
  {
   "cell_type": "code",
   "execution_count": 3,
   "id": "a23b5d9d-be65-4ff1-9f53-f3888aea0876",
   "metadata": {},
   "outputs": [
    {
     "name": "stdout",
     "output_type": "stream",
     "text": [
      "* \n",
      "* * \n",
      "* * * \n"
     ]
    }
   ],
   "source": [
    "i=1\n",
    "n=3\n",
    "while i<=n:\n",
    "    j=1\n",
    "    while j<=i:\n",
    "        print(\"*\",end=\" \")\n",
    "        j=j+1\n",
    "    print()\n",
    "    i=i+1"
   ]
  },
  {
   "cell_type": "markdown",
   "id": "c8ddb2e1-389f-4c7a-9b2e-ef0f018d82a0",
   "metadata": {},
   "source": [
    "# Ans-7"
   ]
  },
  {
   "cell_type": "code",
   "execution_count": 4,
   "id": "e82a69e0-d613-4ce1-8f35-c7809e7fccd6",
   "metadata": {},
   "outputs": [
    {
     "name": "stdout",
     "output_type": "stream",
     "text": [
      "10\n",
      "9\n",
      "8\n",
      "7\n",
      "6\n",
      "5\n",
      "4\n",
      "3\n",
      "2\n",
      "1\n"
     ]
    }
   ],
   "source": [
    "i=10\n",
    "while i>0:\n",
    "    print(i)\n",
    "    i-=1\n"
   ]
  },
  {
   "cell_type": "code",
   "execution_count": null,
   "id": "044752fc-a706-4f02-89e0-82c12b469533",
   "metadata": {},
   "outputs": [],
   "source": [
    "# Question 8 is same to 7"
   ]
  }
 ],
 "metadata": {
  "kernelspec": {
   "display_name": "Python 3 (ipykernel)",
   "language": "python",
   "name": "python3"
  },
  "language_info": {
   "codemirror_mode": {
    "name": "ipython",
    "version": 3
   },
   "file_extension": ".py",
   "mimetype": "text/x-python",
   "name": "python",
   "nbconvert_exporter": "python",
   "pygments_lexer": "ipython3",
   "version": "3.10.8"
  }
 },
 "nbformat": 4,
 "nbformat_minor": 5
}
