{
 "cells": [
  {
   "cell_type": "markdown",
   "id": "3c9776ac-b372-43d2-9cbf-0effbd0ddefc",
   "metadata": {},
   "source": [
    "Ques 1- Who developed Python Programming Language?"
   ]
  },
  {
   "cell_type": "markdown",
   "id": "cad05254-b034-4829-9abb-044c401969ff",
   "metadata": {},
   "source": [
    "Ans 1- Python Programming Language was developed by Guido van Rossum."
   ]
  },
  {
   "cell_type": "markdown",
   "id": "01c1e895-5662-465d-a726-8a4a62f80e8b",
   "metadata": {},
   "source": [
    "Ques 2- Which type of Programming does Python support?\n",
    "\n",
    "Ans 2- Python is a high-level, general-purpose programming language which supports object-oriented, structured, and functional programming."
   ]
  },
  {
   "cell_type": "markdown",
   "id": "99e4dfe1-abcb-4a60-b5d1-5866a7b3d7ee",
   "metadata": {},
   "source": [
    "Ques 3- Is Python case sensitive when dealing with identifiers?\n",
    "\n",
    "Ans 3- Yes, Case is always significant while dealing with identifiers in python."
   ]
  },
  {
   "cell_type": "markdown",
   "id": "3aeb3d3e-a924-41cb-97e2-46a5b3cd0f08",
   "metadata": {},
   "source": [
    "Ques 4- What is the correct extension of Python file?\n",
    "\n",
    "Ans 4-‘.py’ is the correct extension of the Python file. Python programs can be written in any text editor. We need to use the extension . py to save these files."
   ]
  },
  {
   "cell_type": "markdown",
   "id": "cde464ee-2dd4-44c7-a4e4-40ac74e2a14e",
   "metadata": {},
   "source": [
    "Ques-5 Is Python code compiled or interpreted?\n",
    "\n",
    "Ans-5 Python is both compiled as well as an interpreted language."
   ]
  },
  {
   "cell_type": "markdown",
   "id": "e1690391-e209-48ef-9eeb-769a2f812d93",
   "metadata": {},
   "source": [
    "Ques-6 Name a few blocks of code used to define in Python language?\n",
    "\n",
    "Ans-6 In Python language, Indentation is used to define a block of code."
   ]
  },
  {
   "cell_type": "markdown",
   "id": "23c58a77-30e3-43ff-9d27-45d6d5ec4f92",
   "metadata": {},
   "source": [
    "Ques-7 State a character used to give single-line comments in Python?\n",
    "\n",
    "Ans-7 We can write single-line comments in Python by using the Hash character (#) at the beginning of the line. "
   ]
  },
  {
   "cell_type": "markdown",
   "id": "62a51df6-dc6f-4456-9d21-661ae9ade0f2",
   "metadata": {},
   "source": [
    "Ques-8 Mention function which can help us to find the version of Python that we are currently working on?\n",
    "\n",
    "Ans-8 The function sys.version can help us to find the version of python that we are currently working on."
   ]
  },
  {
   "cell_type": "markdown",
   "id": "91db2766-2325-4117-8e1e-e921b2ce8f3c",
   "metadata": {},
   "source": [
    "Ques-9 Python supports the creation of anonymous functions at runtime, using a construct called __________?\n",
    "\n",
    "Ans- Python supports the creation of anonymous functions at runtime, using a construct called lambda."
   ]
  },
  {
   "cell_type": "markdown",
   "id": "76eaa415-6187-4c3b-9231-fd6f704a7a61",
   "metadata": {},
   "source": [
    "Ques-10 What does pip stand for Python?\n",
    "\n",
    "Ans-10 pip stand for \"preferred installer program\"."
   ]
  },
  {
   "cell_type": "markdown",
   "id": "90357e6b-b1f8-4af6-aa00-322b9b3ad71a",
   "metadata": {},
   "source": [
    "Ques- 11 Mention a few built-in functions in Python?\n",
    "\n",
    "Ans- 11 print(),input(),sorted(),len() and max() functions are some built-in function in Python.\n"
   ]
  },
  {
   "cell_type": "markdown",
   "id": "b34af2a4-41f4-4127-bd3d-2c6ed0382667",
   "metadata": {},
   "source": [
    " Ques-12 What is the maximum possible length of an identifier in Python?\n",
    " \n",
    " Ans-12 The maximum possible length of an identifier is 79."
   ]
  },
  {
   "cell_type": "markdown",
   "id": "0a9ccf28-6090-4450-8a1d-769257166370",
   "metadata": {},
   "source": [
    "Ques-13 What are the benefits of using Python?\n",
    "\n",
    "Ans- 13 Python is an open-source, high-level, dynamically-typed, portable, expressive, easy to learn, and code programming language.These are the benefits of using Python."
   ]
  },
  {
   "cell_type": "markdown",
   "id": "d6e035a4-61e0-4c71-a514-15fb49595850",
   "metadata": {},
   "source": [
    "Ques-14 How is memory managed in Python?\n",
    "\n",
    "Ans-14 Memory management in Python involves a private heap containing all Python objects and data structures."
   ]
  },
  {
   "cell_type": "markdown",
   "id": "609344a2-8167-4a8e-8b2e-4b404aded591",
   "metadata": {},
   "source": [
    "Ques-15 How to install Python on windows and set path variables?\n",
    "\n",
    "Ans-15 For installing Python on Windows, follow the steps shown below:\n",
    "\n",
    "First: Download Python\n",
    "\n",
    "After that, install it on your PC by looking for the location where PYTHON has been installed on your PC by executing the following command on command prompt;\n",
    "cmd python.\n",
    "Visit advanced system settings and after that add a new variable and name it as PYTHON_NAME and paste the path that has been copied.\n",
    "Search for the path variable -> select its value and then select ‘edit’.\n",
    "Add a semicolon at the end of the value if it’s not present and then type %PYTHON_HOME%"
   ]
  },
  {
   "cell_type": "markdown",
   "id": "71c0f950-3042-4d53-8887-2ab48e0b9103",
   "metadata": {},
   "source": [
    "Ques-16 Is indentation required in Python?\n",
    "\n",
    "Ans-16  Yes indentation is required in Python because without properly indenting the Python code, you will end up seeing Indentation Error.\n",
    "\n"
   ]
  },
  {
   "cell_type": "code",
   "execution_count": null,
   "id": "f612a8c6-1b93-437c-b7ef-324f31281f9d",
   "metadata": {},
   "outputs": [],
   "source": []
  }
 ],
 "metadata": {
  "kernelspec": {
   "display_name": "Python 3 (ipykernel)",
   "language": "python",
   "name": "python3"
  },
  "language_info": {
   "codemirror_mode": {
    "name": "ipython",
    "version": 3
   },
   "file_extension": ".py",
   "mimetype": "text/x-python",
   "name": "python",
   "nbconvert_exporter": "python",
   "pygments_lexer": "ipython3",
   "version": "3.10.8"
  }
 },
 "nbformat": 4,
 "nbformat_minor": 5
}
